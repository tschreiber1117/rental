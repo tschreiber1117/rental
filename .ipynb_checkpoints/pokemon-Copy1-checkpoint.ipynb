{
 "cells": [
  {
   "cell_type": "code",
   "execution_count": null,
   "id": "50440f9d",
   "metadata": {},
   "outputs": [],
   "source": [
    "# API stands for application programming interface - what an API actually does is provide a way for different servers, devices, and applications to send information back and forth in a commonly understood structure.\n",
    "# So using an API, we can send data from an application written in one programming language to an application written in another programming languare on a different server, and both applications can understand that data.\n",
    "\n",
    "# It's kinda like the kitchen in a restaurant -> they take the unprepared food items, chop them up, cook them, and lay them out nicely presented on a plate for the customer to consume as they please. \n",
    "# API's use data formats that can be understood by multiple programming languages -> the most common one we will use is called JSON data - JavaScrip Object Notation\n",
    "\n"
   ]
  },
  {
   "cell_type": "code",
   "execution_count": 2,
   "id": "3c264c5f",
   "metadata": {},
   "outputs": [
    {
     "data": {
      "text/plain": [
       "200"
      ]
     },
     "execution_count": 2,
     "metadata": {},
     "output_type": "execute_result"
    }
   ],
   "source": [
    "import requests as r # often requests is imported under the alias r\n",
    "\n",
    "data = r.get('https://pokeapi.co/api/v2/pokemon/ditto')\n",
    "data.status_code"
   ]
  },
  {
   "cell_type": "code",
   "execution_count": 8,
   "id": "92fba7a0",
   "metadata": {},
   "outputs": [
    {
     "data": {
      "text/plain": [
       "'limber'"
      ]
     },
     "execution_count": 8,
     "metadata": {},
     "output_type": "execute_result"
    }
   ],
   "source": [
    "ditto_data = data.json()\n",
    "ditto_data['abilities'][0]['ability']['name']"
   ]
  },
  {
   "cell_type": "code",
   "execution_count": null,
   "id": "06d44624",
   "metadata": {},
   "outputs": [],
   "source": [
    "# In-class Ex #1\n",
    "# from this API Endpoint: 'https://pokeapi.co/api/v2/pokemon/entei'\n",
    "# Access the string 'emerald' thats located somewhere within game_indices\n"
   ]
  },
  {
   "cell_type": "code",
   "execution_count": 38,
   "id": "067dc16e",
   "metadata": {},
   "outputs": [
    {
     "data": {
      "text/plain": [
       "200"
      ]
     },
     "execution_count": 38,
     "metadata": {},
     "output_type": "execute_result"
    }
   ],
   "source": [
    "import requests as r\n",
    "\n",
    "data = r.get('https://pokeapi.co/api/v2/pokemon/entei')\n",
    "data.status_code"
   ]
  },
  {
   "cell_type": "code",
   "execution_count": 22,
   "id": "a7e8e4b1",
   "metadata": {},
   "outputs": [
    {
     "data": {
      "text/plain": [
       "'emerald'"
      ]
     },
     "execution_count": 22,
     "metadata": {},
     "output_type": "execute_result"
    }
   ],
   "source": [
    "entei = data.json()\n",
    "entei['game_indices'][5]['version']['name']"
   ]
  },
  {
   "cell_type": "code",
   "execution_count": 29,
   "id": "307f6150",
   "metadata": {},
   "outputs": [
    {
     "name": "stdout",
     "output_type": "stream",
     "text": [
      " LINE 5: emerald\n",
      "\n",
      "\n",
      "LINE 11: gold\n",
      "LINE 11: silver\n",
      "LINE 11: crystal\n",
      "LINE 11: ruby\n",
      "LINE 11: sapphire\n",
      "LINE 11: emerald\n",
      "LINE 11: firered\n",
      "LINE 11: leafgreen\n",
      "LINE 11: diamond\n",
      "LINE 11: pearl\n",
      "LINE 11: platinum\n",
      "LINE 11: heartgold\n",
      "LINE 11: soulsilver\n",
      "LINE 11: black\n",
      "LINE 11: white\n",
      "LINE 11: black-2\n",
      "LINE 11: white-2\n",
      "\n",
      "\n",
      "Entei is in the following games: ['gold', 'silver', 'crystal', 'ruby', 'sapphire', 'emerald', 'firered', 'leafgreen', 'diamond', 'pearl', 'platinum', 'heartgold', 'soulsilver', 'black', 'white', 'black-2', 'white-2']\n"
     ]
    }
   ],
   "source": [
    "# what are the names of all of the Pokemon games that Entei is in?\n",
    "# I want a list of the names of every game Entei is in\n",
    "# Well, if I can do it for one piece of the data, I can do it for them all. \n",
    "print(f\" LINE 5: {entei['game_indices'][5]['version']['name']}\")\n",
    "print('\\n')\n",
    "\n",
    "# I can do it for all of the similarly structured data\n",
    "entei_games = []\n",
    "for game in entei['game_indices']:\n",
    "    print(f\"LINE 11: {game['version']['name']}\")\n",
    "    entei_games.append(game['version']['name'])\n",
    "\n",
    "print('\\n')\n",
    "print(f'Entei is in the following games: {entei_games}')\n"
   ]
  },
  {
   "cell_type": "code",
   "execution_count": 20,
   "id": "e68a4710",
   "metadata": {},
   "outputs": [],
   "source": [
    "a_pokemon = {\n",
    "    'name': 'name1',\n",
    "    'abilities': ['roar', 'tail whip', 'thunderbolt'],\n",
    "    'weight': 45,\n",
    "    'types': 'fire'\n",
    "}"
   ]
  },
  {
   "cell_type": "code",
   "execution_count": 4,
   "id": "0f3a373f",
   "metadata": {},
   "outputs": [
    {
     "data": {
      "text/plain": [
       "200"
      ]
     },
     "execution_count": 4,
     "metadata": {},
     "output_type": "execute_result"
    }
   ],
   "source": [
    "data = r.get('https://pokeapi.co/api/v2/pokemon/?offset=20&limit=20')\n",
    "data.status_code"
   ]
  },
  {
   "cell_type": "code",
   "execution_count": 25,
   "id": "49d5d100",
   "metadata": {},
   "outputs": [
    {
     "name": "stdout",
     "output_type": "stream",
     "text": [
      "{'name': 'fearow', 'url': 'https://pokeapi.co/api/v2/pokemon/22/'}\n"
     ]
    }
   ],
   "source": [
    "import requests as r\n",
    "\n",
    "data = r.get('https://pokeapi.co/api/v2/pokemon/?offset=20&limit=20')\n",
    "data.status_code\n",
    "spearow_data = data.json()\n",
    "fearow_data = data.json()['results'][1]\n",
    "print(fearow_data)\n",
    "ekans_data = data.json()\n",
    "arbok_data = data.json()\n",
    "pikachu_data = data.json()\n",
    "raichu_data = data.json()\n",
    "sandshrew_data = data.json()\n",
    "sandslash_data = data.json()\n",
    "nidoranf_data = data.json()\n",
    "nidorina_data = data.json()\n",
    "nidoqueen_data = data.json()\n",
    "nidoranm_data = data.json()\n",
    "nidorino_data = data.json()\n",
    "nidoking_data = data.json()\n",
    "clefairy_data = data.json()\n",
    "clefable_data = data.json()\n",
    "vulpix_data = data.json()\n",
    "ninetales_data = data.json()\n",
    "jigglypuff_data = data.json()\n",
    "wigglytuff_data = data.json()"
   ]
  },
  {
   "cell_type": "code",
   "execution_count": 7,
   "id": "169c4065",
   "metadata": {},
   "outputs": [
    {
     "data": {
      "text/plain": [
       "<Response [200]>"
      ]
     },
     "execution_count": 7,
     "metadata": {},
     "output_type": "execute_result"
    }
   ],
   "source": [
    "data"
   ]
  },
  {
   "cell_type": "code",
   "execution_count": 8,
   "id": "7ae28822",
   "metadata": {},
   "outputs": [
    {
     "name": "stdout",
     "output_type": "stream",
     "text": [
      "spearow fearow ekans arbok pikachu raichu sandshrew sandslash nidoran-f nidorina nidoqueen nidoran-m nidorino nidoking clefairy clefable vulpix ninetales jigglypuff wigglytuff\n"
     ]
    }
   ],
   "source": [
    "#NAMES\n",
    "\n",
    "name1 = spearow_data['results'][0]['name']\n",
    "name2 = fearow_data['results'][1]['name']\n",
    "name3 = ekans_data['results'][2]['name']\n",
    "name4 = arbok_data['results'][3]['name']\n",
    "name5 = pikachu_data['results'][4]['name']\n",
    "name6 = raichu_data['results'][5]['name']\n",
    "name7 = sandshrew_data['results'][6]['name']\n",
    "name8 = sandslash_data['results'][7]['name']\n",
    "name9 = nidoranf_data['results'][8]['name']\n",
    "name10 = nidorina_data['results'][9]['name']\n",
    "name11 = nidoqueen_data['results'][10]['name']\n",
    "name12 = nidoranm_data['results'][11]['name']\n",
    "name13 = nidorino_data['results'][12]['name']\n",
    "name14 = nidoking_data['results'][13]['name']\n",
    "name15 = clefairy_data['results'][14]['name']\n",
    "name16 = clefable_data['results'][15]['name']\n",
    "name17 = vulpix_data['results'][16]['name']\n",
    "name18 = ninetales_data['results'][17]['name']\n",
    "name19 = jigglypuff_data['results'][18]['name']\n",
    "name20 = wigglytuff_data['results'][19]['name']\n",
    "print(name1, name2, name3, name4, name5, name6, name7, name8, name9, name10, name11, name12, name13, name14, name15, name16, name17, name18, name19, name20)"
   ]
  },
  {
   "cell_type": "code",
   "execution_count": 50,
   "id": "c83d6716",
   "metadata": {},
   "outputs": [
    {
     "ename": "KeyError",
     "evalue": "'name'",
     "output_type": "error",
     "traceback": [
      "\u001b[1;31m---------------------------------------------------------------------------\u001b[0m",
      "\u001b[1;31mKeyError\u001b[0m                                  Traceback (most recent call last)",
      "\u001b[1;32m<ipython-input-50-4157199b9581>\u001b[0m in \u001b[0;36m<module>\u001b[1;34m\u001b[0m\n\u001b[0;32m      1\u001b[0m \u001b[0mspearow\u001b[0m \u001b[1;33m=\u001b[0m \u001b[0mr\u001b[0m\u001b[1;33m.\u001b[0m\u001b[0mget\u001b[0m\u001b[1;33m(\u001b[0m\u001b[1;34m'https://pokeapi.co/api/v2/pokemon/21/'\u001b[0m\u001b[1;33m)\u001b[0m\u001b[1;33m.\u001b[0m\u001b[0mjson\u001b[0m\u001b[1;33m(\u001b[0m\u001b[1;33m)\u001b[0m\u001b[1;33m\u001b[0m\u001b[1;33m\u001b[0m\u001b[0m\n\u001b[1;32m----> 2\u001b[1;33m \u001b[0mname1\u001b[0m \u001b[1;33m=\u001b[0m \u001b[0mspearow_data\u001b[0m\u001b[1;33m[\u001b[0m\u001b[1;34m'name'\u001b[0m\u001b[1;33m]\u001b[0m\u001b[1;33m\u001b[0m\u001b[1;33m\u001b[0m\u001b[0m\n\u001b[0m\u001b[0;32m      3\u001b[0m \u001b[0mabil1\u001b[0m \u001b[1;33m=\u001b[0m \u001b[0mspearow\u001b[0m\u001b[1;33m[\u001b[0m\u001b[1;34m'abilities'\u001b[0m\u001b[1;33m]\u001b[0m\u001b[1;33m[\u001b[0m\u001b[1;36m0\u001b[0m\u001b[1;33m]\u001b[0m\u001b[1;33m[\u001b[0m\u001b[1;34m'ability'\u001b[0m\u001b[1;33m]\u001b[0m\u001b[1;33m[\u001b[0m\u001b[1;34m'name'\u001b[0m\u001b[1;33m]\u001b[0m\u001b[1;33m\u001b[0m\u001b[1;33m\u001b[0m\u001b[0m\n\u001b[0;32m      4\u001b[0m \u001b[0mabil1\u001b[0m \u001b[1;33m=\u001b[0m \u001b[0mspearow\u001b[0m\u001b[1;33m[\u001b[0m\u001b[1;34m'abilities'\u001b[0m\u001b[1;33m]\u001b[0m\u001b[1;33m[\u001b[0m\u001b[1;36m1\u001b[0m\u001b[1;33m]\u001b[0m\u001b[1;33m[\u001b[0m\u001b[1;34m'ability'\u001b[0m\u001b[1;33m]\u001b[0m\u001b[1;33m[\u001b[0m\u001b[1;34m'name'\u001b[0m\u001b[1;33m]\u001b[0m\u001b[1;33m\u001b[0m\u001b[1;33m\u001b[0m\u001b[0m\n\u001b[0;32m      5\u001b[0m \u001b[0mweight1\u001b[0m \u001b[1;33m=\u001b[0m \u001b[0mspearow\u001b[0m\u001b[1;33m[\u001b[0m\u001b[1;34m'weight'\u001b[0m\u001b[1;33m]\u001b[0m\u001b[1;33m\u001b[0m\u001b[1;33m\u001b[0m\u001b[0m\n",
      "\u001b[1;31mKeyError\u001b[0m: 'name'"
     ]
    }
   ],
   "source": [
    "spearow = r.get('https://pokeapi.co/api/v2/pokemon/21/').json()\n",
    "name1 = spearow_data['name']\n",
    "abil1 = spearow['abilities'][0]['ability']['name']\n",
    "abil1 = spearow['abilities'][1]['ability']['name']\n",
    "weight1 = spearow['weight']\n",
    "type1 = spearow['types'][0]['type']['name']\n",
    "type2 = spearow['types'][1]['type']['name']"
   ]
  },
  {
   "cell_type": "code",
   "execution_count": 49,
   "id": "4e6fb284",
   "metadata": {},
   "outputs": [
    {
     "data": {
      "text/plain": [
       "{'name': 'fearow', 'url': 'https://pokeapi.co/api/v2/pokemon/22/'}"
      ]
     },
     "execution_count": 49,
     "metadata": {},
     "output_type": "execute_result"
    }
   ],
   "source": [
    "fearow = r.get('https://pokeapi.co/api/v2/pokemon/22/').json()\n",
    "name2 = fearow_data['name']\n",
    "abil1 = fearow['abilities'][0]['ability']['name']\n",
    "abil2 = fearow['abilities'][1]['ability']['name']\n",
    "weight1 = fearow['weight']\n",
    "type1 = fearow['types'][0]['type']['name']\n",
    "type2 = fearow['types'][1]['type']['name']\n"
   ]
  },
  {
   "cell_type": "code",
   "execution_count": 52,
   "id": "3c5b20c0",
   "metadata": {},
   "outputs": [
    {
     "ename": "KeyError",
     "evalue": "'name'",
     "output_type": "error",
     "traceback": [
      "\u001b[1;31m---------------------------------------------------------------------------\u001b[0m",
      "\u001b[1;31mKeyError\u001b[0m                                  Traceback (most recent call last)",
      "\u001b[1;32m<ipython-input-52-eb099313a53e>\u001b[0m in \u001b[0;36m<module>\u001b[1;34m\u001b[0m\n\u001b[0;32m      1\u001b[0m \u001b[0mekans\u001b[0m \u001b[1;33m=\u001b[0m \u001b[0mr\u001b[0m\u001b[1;33m.\u001b[0m\u001b[0mget\u001b[0m\u001b[1;33m(\u001b[0m\u001b[1;34m'https://pokeapi.co/api/v2/pokemon/23/'\u001b[0m\u001b[1;33m)\u001b[0m\u001b[1;33m.\u001b[0m\u001b[0mjson\u001b[0m\u001b[1;33m(\u001b[0m\u001b[1;33m)\u001b[0m\u001b[1;33m\u001b[0m\u001b[1;33m\u001b[0m\u001b[0m\n\u001b[1;32m----> 2\u001b[1;33m \u001b[0mname2\u001b[0m \u001b[1;33m=\u001b[0m \u001b[0mekans_data\u001b[0m\u001b[1;33m[\u001b[0m\u001b[1;34m'name'\u001b[0m\u001b[1;33m]\u001b[0m\u001b[1;33m\u001b[0m\u001b[1;33m\u001b[0m\u001b[0m\n\u001b[0m\u001b[0;32m      3\u001b[0m \u001b[0mabil1\u001b[0m \u001b[1;33m=\u001b[0m \u001b[0mekans\u001b[0m\u001b[1;33m[\u001b[0m\u001b[1;34m'abilities'\u001b[0m\u001b[1;33m]\u001b[0m\u001b[1;33m[\u001b[0m\u001b[1;36m0\u001b[0m\u001b[1;33m]\u001b[0m\u001b[1;33m[\u001b[0m\u001b[1;34m'ability'\u001b[0m\u001b[1;33m]\u001b[0m\u001b[1;33m[\u001b[0m\u001b[1;34m'name'\u001b[0m\u001b[1;33m]\u001b[0m\u001b[1;33m\u001b[0m\u001b[1;33m\u001b[0m\u001b[0m\n\u001b[0;32m      4\u001b[0m \u001b[0mabil2\u001b[0m \u001b[1;33m=\u001b[0m \u001b[0mekans\u001b[0m\u001b[1;33m[\u001b[0m\u001b[1;34m'abilities'\u001b[0m\u001b[1;33m]\u001b[0m\u001b[1;33m[\u001b[0m\u001b[1;36m1\u001b[0m\u001b[1;33m]\u001b[0m\u001b[1;33m[\u001b[0m\u001b[1;34m'ability'\u001b[0m\u001b[1;33m]\u001b[0m\u001b[1;33m[\u001b[0m\u001b[1;34m'name'\u001b[0m\u001b[1;33m]\u001b[0m\u001b[1;33m\u001b[0m\u001b[1;33m\u001b[0m\u001b[0m\n\u001b[0;32m      5\u001b[0m \u001b[0mweight1\u001b[0m \u001b[1;33m=\u001b[0m \u001b[0mekans\u001b[0m\u001b[1;33m[\u001b[0m\u001b[1;34m'weight'\u001b[0m\u001b[1;33m]\u001b[0m\u001b[1;33m\u001b[0m\u001b[1;33m\u001b[0m\u001b[0m\n",
      "\u001b[1;31mKeyError\u001b[0m: 'name'"
     ]
    }
   ],
   "source": [
    "ekans = r.get('https://pokeapi.co/api/v2/pokemon/23/').json()\n",
    "name2 = ekans_data['name']\n",
    "abil1 = ekans['abilities'][0]['ability']['name']\n",
    "abil2 = ekans['abilities'][1]['ability']['name']\n",
    "weight1 = ekans['weight']\n",
    "type1 = ekans['types'][0]['type']['name']\n",
    "type2 = ekans['types'][1]['type']['name']"
   ]
  },
  {
   "cell_type": "code",
   "execution_count": 46,
   "id": "f56c457e",
   "metadata": {},
   "outputs": [
    {
     "ename": "KeyError",
     "evalue": "'name'",
     "output_type": "error",
     "traceback": [
      "\u001b[1;31m---------------------------------------------------------------------------\u001b[0m",
      "\u001b[1;31mKeyError\u001b[0m                                  Traceback (most recent call last)",
      "\u001b[1;32m<ipython-input-46-23af3f32a4b5>\u001b[0m in \u001b[0;36m<module>\u001b[1;34m\u001b[0m\n\u001b[0;32m      1\u001b[0m \u001b[0marbok\u001b[0m \u001b[1;33m=\u001b[0m \u001b[0mr\u001b[0m\u001b[1;33m.\u001b[0m\u001b[0mget\u001b[0m\u001b[1;33m(\u001b[0m\u001b[1;34m'https://pokeapi.co/api/v2/pokemon/24/'\u001b[0m\u001b[1;33m)\u001b[0m\u001b[1;33m.\u001b[0m\u001b[0mjson\u001b[0m\u001b[1;33m(\u001b[0m\u001b[1;33m)\u001b[0m\u001b[1;33m\u001b[0m\u001b[1;33m\u001b[0m\u001b[0m\n\u001b[0;32m      2\u001b[0m \u001b[0mname4\u001b[0m \u001b[1;33m=\u001b[0m \u001b[0marbok_data\u001b[0m\u001b[1;33m[\u001b[0m\u001b[1;34m'results'\u001b[0m\u001b[1;33m]\u001b[0m\u001b[1;33m[\u001b[0m\u001b[1;36m3\u001b[0m\u001b[1;33m]\u001b[0m\u001b[1;33m[\u001b[0m\u001b[1;34m'name'\u001b[0m\u001b[1;33m]\u001b[0m\u001b[1;33m\u001b[0m\u001b[1;33m\u001b[0m\u001b[0m\n\u001b[1;32m----> 3\u001b[1;33m \u001b[0mname3\u001b[0m \u001b[1;33m=\u001b[0m \u001b[0mekans_data\u001b[0m\u001b[1;33m[\u001b[0m\u001b[1;34m'name'\u001b[0m\u001b[1;33m]\u001b[0m\u001b[1;33m\u001b[0m\u001b[1;33m\u001b[0m\u001b[0m\n\u001b[0m\u001b[0;32m      4\u001b[0m \u001b[0mabil1\u001b[0m \u001b[1;33m=\u001b[0m \u001b[0mekans\u001b[0m\u001b[1;33m[\u001b[0m\u001b[1;34m'abilities'\u001b[0m\u001b[1;33m]\u001b[0m\u001b[1;33m[\u001b[0m\u001b[1;36m0\u001b[0m\u001b[1;33m]\u001b[0m\u001b[1;33m[\u001b[0m\u001b[1;34m'ability'\u001b[0m\u001b[1;33m]\u001b[0m\u001b[1;33m[\u001b[0m\u001b[1;34m'name'\u001b[0m\u001b[1;33m]\u001b[0m\u001b[1;33m\u001b[0m\u001b[1;33m\u001b[0m\u001b[0m\n\u001b[0;32m      5\u001b[0m \u001b[0mabil2\u001b[0m \u001b[1;33m=\u001b[0m \u001b[0mekans\u001b[0m\u001b[1;33m[\u001b[0m\u001b[1;34m'abilities'\u001b[0m\u001b[1;33m]\u001b[0m\u001b[1;33m[\u001b[0m\u001b[1;36m1\u001b[0m\u001b[1;33m]\u001b[0m\u001b[1;33m[\u001b[0m\u001b[1;34m'ability'\u001b[0m\u001b[1;33m]\u001b[0m\u001b[1;33m[\u001b[0m\u001b[1;34m'name'\u001b[0m\u001b[1;33m]\u001b[0m\u001b[1;33m\u001b[0m\u001b[1;33m\u001b[0m\u001b[0m\n",
      "\u001b[1;31mKeyError\u001b[0m: 'name'"
     ]
    }
   ],
   "source": [
    "arbok = r.get('https://pokeapi.co/api/v2/pokemon/24/').json()\n",
    "name2 = arbok_data['name']\n",
    "abil1 = arbok['abilities'][0]['ability']['name']\n",
    "abil2 = arbok['abilities'][1]['ability']['name']\n",
    "weight1 = arbok['weight']\n",
    "type1 = arbok['types'][0]['type']['name']\n",
    "type2 = arbok['types'][1]['type']['name']"
   ]
  },
  {
   "cell_type": "code",
   "execution_count": 226,
   "id": "3c476e7a",
   "metadata": {},
   "outputs": [
    {
     "data": {
      "text/plain": [
       "'pikachu'"
      ]
     },
     "execution_count": 226,
     "metadata": {},
     "output_type": "execute_result"
    }
   ],
   "source": [
    "pikachu = r.get('https://pokeapi.co/api/v2/pokemon/22/').json()\n",
    "name2 = pikachu_data['name']\n",
    "abil1 = pikachu['abilities'][0]['ability']['name']\n",
    "abil2 = pikachu['abilities'][1]['ability']['name']\n",
    "weight1 = pikachu['weight']\n",
    "type1 = pikachu['types'][0]['type']['name']\n",
    "type2 = pikachu['types'][1]['type']['name']"
   ]
  },
  {
   "cell_type": "code",
   "execution_count": 227,
   "id": "b33b34dc",
   "metadata": {},
   "outputs": [
    {
     "data": {
      "text/plain": [
       "'raichu'"
      ]
     },
     "execution_count": 227,
     "metadata": {},
     "output_type": "execute_result"
    }
   ],
   "source": [
    "name6 = raichu_data['results'][5]['name']"
   ]
  },
  {
   "cell_type": "code",
   "execution_count": 228,
   "id": "9df1f5bb",
   "metadata": {},
   "outputs": [
    {
     "data": {
      "text/plain": [
       "'sandshrew'"
      ]
     },
     "execution_count": 228,
     "metadata": {},
     "output_type": "execute_result"
    }
   ],
   "source": [
    "name7 = sandshrew_data['results'][6]['name']"
   ]
  },
  {
   "cell_type": "code",
   "execution_count": 229,
   "id": "434df79c",
   "metadata": {},
   "outputs": [
    {
     "data": {
      "text/plain": [
       "'sandslash'"
      ]
     },
     "execution_count": 229,
     "metadata": {},
     "output_type": "execute_result"
    }
   ],
   "source": [
    "name8 = sandslash_data['results'][7]['name']"
   ]
  },
  {
   "cell_type": "code",
   "execution_count": 245,
   "id": "59e6648e",
   "metadata": {},
   "outputs": [
    {
     "name": "stdout",
     "output_type": "stream",
     "text": [
      "nidoran-f\n"
     ]
    }
   ],
   "source": [
    "name9 = nidoranf_data['results'][8]['name']"
   ]
  },
  {
   "cell_type": "code",
   "execution_count": 231,
   "id": "5121e2ae",
   "metadata": {},
   "outputs": [
    {
     "data": {
      "text/plain": [
       "'nidorina'"
      ]
     },
     "execution_count": 231,
     "metadata": {},
     "output_type": "execute_result"
    }
   ],
   "source": [
    "name10 = nidorina_data['results'][9]['name']"
   ]
  },
  {
   "cell_type": "code",
   "execution_count": 232,
   "id": "ad8fca65",
   "metadata": {},
   "outputs": [
    {
     "data": {
      "text/plain": [
       "'nidoqueen'"
      ]
     },
     "execution_count": 232,
     "metadata": {},
     "output_type": "execute_result"
    }
   ],
   "source": [
    "name11 = nidoqueen_data['results'][10]['name']"
   ]
  },
  {
   "cell_type": "code",
   "execution_count": 233,
   "id": "95d2d321",
   "metadata": {},
   "outputs": [
    {
     "data": {
      "text/plain": [
       "'nidoran-m'"
      ]
     },
     "execution_count": 233,
     "metadata": {},
     "output_type": "execute_result"
    }
   ],
   "source": [
    "name12 = nidoranm_data['results'][11]['name']"
   ]
  },
  {
   "cell_type": "code",
   "execution_count": 234,
   "id": "cdf65925",
   "metadata": {},
   "outputs": [
    {
     "data": {
      "text/plain": [
       "'nidorino'"
      ]
     },
     "execution_count": 234,
     "metadata": {},
     "output_type": "execute_result"
    }
   ],
   "source": [
    "name13 = nidorino_data['results'][12]['name']"
   ]
  },
  {
   "cell_type": "code",
   "execution_count": 235,
   "id": "8f953b5c",
   "metadata": {},
   "outputs": [
    {
     "data": {
      "text/plain": [
       "'nidoking'"
      ]
     },
     "execution_count": 235,
     "metadata": {},
     "output_type": "execute_result"
    }
   ],
   "source": [
    "name14 = nidoking_data['results'][13]['name']"
   ]
  },
  {
   "cell_type": "code",
   "execution_count": 236,
   "id": "3f102af2",
   "metadata": {},
   "outputs": [
    {
     "data": {
      "text/plain": [
       "'clefairy'"
      ]
     },
     "execution_count": 236,
     "metadata": {},
     "output_type": "execute_result"
    }
   ],
   "source": [
    "name15 = clefairy_data['results'][14]['name']"
   ]
  },
  {
   "cell_type": "code",
   "execution_count": 237,
   "id": "899d60be",
   "metadata": {},
   "outputs": [
    {
     "data": {
      "text/plain": [
       "'clefable'"
      ]
     },
     "execution_count": 237,
     "metadata": {},
     "output_type": "execute_result"
    }
   ],
   "source": [
    "name16 = clefable_data['results'][15]['name']"
   ]
  },
  {
   "cell_type": "code",
   "execution_count": 238,
   "id": "3d346ed8",
   "metadata": {},
   "outputs": [
    {
     "data": {
      "text/plain": [
       "'vulpix'"
      ]
     },
     "execution_count": 238,
     "metadata": {},
     "output_type": "execute_result"
    }
   ],
   "source": [
    "name17 = vulpix_data['results'][16]['name']"
   ]
  },
  {
   "cell_type": "code",
   "execution_count": 239,
   "id": "c557be49",
   "metadata": {},
   "outputs": [
    {
     "data": {
      "text/plain": [
       "'ninetales'"
      ]
     },
     "execution_count": 239,
     "metadata": {},
     "output_type": "execute_result"
    }
   ],
   "source": [
    "name18 = ninetales_data['results'][17]['name']"
   ]
  },
  {
   "cell_type": "code",
   "execution_count": 240,
   "id": "9bc32228",
   "metadata": {},
   "outputs": [
    {
     "data": {
      "text/plain": [
       "'jigglypuff'"
      ]
     },
     "execution_count": 240,
     "metadata": {},
     "output_type": "execute_result"
    }
   ],
   "source": [
    "name19 = jigglypuff_data['results'][18]['name']"
   ]
  },
  {
   "cell_type": "code",
   "execution_count": 16,
   "id": "6ce48ae4",
   "metadata": {},
   "outputs": [
    {
     "ename": "NameError",
     "evalue": "name 'wifflytuff_data' is not defined",
     "output_type": "error",
     "traceback": [
      "\u001b[1;31m---------------------------------------------------------------------------\u001b[0m",
      "\u001b[1;31mNameError\u001b[0m                                 Traceback (most recent call last)",
      "\u001b[1;32m<ipython-input-16-00c6336a76cc>\u001b[0m in \u001b[0;36m<module>\u001b[1;34m\u001b[0m\n\u001b[1;32m----> 1\u001b[1;33m \u001b[0mname20\u001b[0m \u001b[1;33m=\u001b[0m \u001b[0mwifflytuff_data\u001b[0m\u001b[1;33m[\u001b[0m\u001b[1;34m'results'\u001b[0m\u001b[1;33m]\u001b[0m\u001b[1;33m[\u001b[0m\u001b[1;36m19\u001b[0m\u001b[1;33m]\u001b[0m\u001b[1;33m[\u001b[0m\u001b[1;34m'name'\u001b[0m\u001b[1;33m]\u001b[0m\u001b[1;33m\u001b[0m\u001b[1;33m\u001b[0m\u001b[0m\n\u001b[0m",
      "\u001b[1;31mNameError\u001b[0m: name 'wifflytuff_data' is not defined"
     ]
    }
   ],
   "source": [
    "name20 = wifflytuff_data['results'][19]['name']"
   ]
  },
  {
   "cell_type": "code",
   "execution_count": 319,
   "id": "c67af540",
   "metadata": {},
   "outputs": [
    {
     "data": {
      "text/plain": [
       "{'name': 'spearow',\n",
       " 'abilities': ('keen-eye', 'sniper'),\n",
       " 'weight': 20,\n",
       " 'types': ('normal', 'flying')}"
      ]
     },
     "execution_count": 319,
     "metadata": {},
     "output_type": "execute_result"
    }
   ],
   "source": [
    "spearow_dictionary = {\n",
    "    'name': (name1),\n",
    "    'abilities': (abil1_1,abil1_2),\n",
    "    'weight': (weight1),\n",
    "    'types': (type1_1,type1_2),\n",
    "}\n",
    "spearow_dictionary"
   ]
  },
  {
   "cell_type": "code",
   "execution_count": 10,
   "id": "467bf7d3",
   "metadata": {
    "scrolled": true
   },
   "outputs": [
    {
     "data": {
      "text/plain": [
       "200"
      ]
     },
     "execution_count": 10,
     "metadata": {},
     "output_type": "execute_result"
    }
   ],
   "source": [
    "import requests as r\n",
    "\n",
    "abil_data = r.get('https://pokeapi.co/api/v2/pokemon/21/')\n",
    "abil_data.status_code"
   ]
  },
  {
   "cell_type": "code",
   "execution_count": 11,
   "id": "1ac55f35",
   "metadata": {},
   "outputs": [
    {
     "name": "stdout",
     "output_type": "stream",
     "text": [
      "keen-eye\n"
     ]
    }
   ],
   "source": [
    "abil = abil_data.json()\n",
    "abil1_1 = abil['abilities'][0]['ability']['name']\n",
    "print(abil1_1)"
   ]
  },
  {
   "cell_type": "code",
   "execution_count": 12,
   "id": "40993304",
   "metadata": {},
   "outputs": [
    {
     "name": "stdout",
     "output_type": "stream",
     "text": [
      "sniper\n"
     ]
    }
   ],
   "source": [
    "abil1_2 = abil['abilities'][1]['ability']['name']\n",
    "print(abil1_2)"
   ]
  },
  {
   "cell_type": "code",
   "execution_count": 22,
   "id": "9db5927d",
   "metadata": {},
   "outputs": [
    {
     "name": "stdout",
     "output_type": "stream",
     "text": [
      "20\n"
     ]
    }
   ],
   "source": [
    "weight_data = r.get('https://pokeapi.co/api/v2/pokemon/21/')\n",
    "weight = weight_data.json()\n",
    "weight1 = weight['weight']\n",
    "print (weight1)"
   ]
  },
  {
   "cell_type": "code",
   "execution_count": 14,
   "id": "8b5c1fb9",
   "metadata": {},
   "outputs": [
    {
     "name": "stdout",
     "output_type": "stream",
     "text": [
      "normal\n"
     ]
    }
   ],
   "source": [
    "type_data = r.get('https://pokeapi.co/api/v2/pokemon/21/')\n",
    "type = type_data.json()\n",
    "type1_1 = type['types'][0]['type']['name']\n",
    "print(type1_1)"
   ]
  },
  {
   "cell_type": "code",
   "execution_count": 15,
   "id": "326ee49d",
   "metadata": {},
   "outputs": [
    {
     "name": "stdout",
     "output_type": "stream",
     "text": [
      "flying\n"
     ]
    }
   ],
   "source": [
    "type_data = r.get('https://pokeapi.co/api/v2/pokemon/21/')\n",
    "type = type_data.json()\n",
    "type1_2 = type['types'][1]['type']['name']\n",
    "print(type1_2)"
   ]
  },
  {
   "cell_type": "code",
   "execution_count": 12,
   "id": "a256fa6b",
   "metadata": {},
   "outputs": [
    {
     "name": "stdout",
     "output_type": "stream",
     "text": [
      "ability variable has value: \n",
      "\t pressure\n",
      "ability variable has value: \n",
      "\t inner-focus\n"
     ]
    },
    {
     "data": {
      "text/plain": [
       "['pressure', 'inner-focus']"
      ]
     },
     "execution_count": 12,
     "metadata": {},
     "output_type": "execute_result"
    }
   ],
   "source": [
    "entei_data = r.get('https://pokeapi.co/api/v2/pokemon/entei')\n",
    "\n",
    "if entei_data.status_code == 200:\n",
    "    entei_data = entei_data.json()\n",
    "    \n",
    "entei_data['abilities']\n",
    "\n",
    "for ability in entei_data['abilities']:\n",
    "    print(f\"ability variable has value: \\n\\t {ability['ability']['name']}\")\n",
    "    \n",
    "# but I want to get the ability names in a list\n",
    "# wait a second...how do I make a list based on a transformation from another list?\n",
    "# LIST COMPREHENSION\n",
    "\n",
    "entei_abilities = [ability['ability']['name'] for ability in entei_data['abilities']]\n",
    "entei_abilities"
   ]
  },
  {
   "cell_type": "code",
   "execution_count": 52,
   "id": "f0a130d8",
   "metadata": {},
   "outputs": [],
   "source": [
    "import requests as r\n",
    "# Instead of Making a Pokemon Dictionary, I want to make pokemon objects\n",
    "# I want to store those pokemon objects in a dictionary where the key is the pokemon's name\n",
    "# {\n",
    "# 'grovyle' : <pokemon_object for grovyle @ 0x304180sflk31sj>\n",
    "# }\n",
    "# I want to be able to pass a dictionary made from the API call .json() data into the __init__() of Pokemon class\n",
    "# and have the pokemon's attributes be filled out from there\n",
    "\n",
    "# let me lay out my skeleton code\n",
    "# pokemon object is gonna have the same attributes\n",
    "    # name=str, abilities=[], types=[], weight=int\n",
    "# pokemon object methods\n",
    "    # display that prints our pokemon's info nice and pretty prettily? fancy-lookin.\n",
    "\n",
    "# second class pokedex\n",
    "    # 1 attribute - the dictionary of all the pokemon\n",
    "    \n",
    "    # 3 methods\n",
    "        # 1 create pokemon -> take in a list of pokemon names, and fill up our objects/dictionary\n",
    "        # 2 display function - to show all the pokemon\n",
    "        # 3 searching function to display based on the pokemon type asked for\n",
    "\n",
    "# pokemon objects\n",
    "class Pokemon:\n",
    "    def __init__(self, d):\n",
    "        self.name = d['name']\n",
    "        self.weight = d['weight']\n",
    "        self.abilities = [ability['ability']['name'] for ability in d['abilities']]\n",
    "        self.types = [t['type']['name'] for t in d['types']]\n",
    "        \n",
    "    def show(self):\n",
    "        print(self.name, self.__dict__)\n",
    "\n",
    "# pokedex objects\n",
    "class Pokedex:\n",
    "    def __init__(self):\n",
    "        self.dex = {}\n",
    "    \n",
    "    # accepts a list of pokemon names, fills our entire pokedex with pokemon objects based on the names passed in\n",
    "    def fillDex(self, pokeNames):\n",
    "        for name in pokeNames:\n",
    "            self.dex[name] = self.getMon(name)\n",
    "            \n",
    "    \n",
    "    # runs our Single Pokemon Process (TM)\n",
    "    def getMon(self, name):\n",
    "        data = r.get(f'https://pokeapi.co/api/v2/pokemon/{name}')\n",
    "        # if our api call was successful\n",
    "        if data.status_code == 200:\n",
    "            data = data.json() # this is the dictionary of info about the pokemon\n",
    "            # instantiate an entei with that data\n",
    "            pokemon = Pokemon(data)\n",
    "            return pokemon\n",
    "        else:\n",
    "            print('Unsuccessful')\n",
    "        \n",
    "    def display(self):\n",
    "        print('Your pokedex currently contains:')\n",
    "        for pokemon in self.dex.values():\n",
    "            pokemon.show()\n",
    "    \n",
    "    def search(self, pokeType):\n",
    "        print(f'The pokemon of type: {pokeType}')\n",
    "        for pokemon in self.dex.values():\n",
    "            if pokeType.lower() in pokemon.types:\n",
    "                pokemon.show()\n",
    "    \n",
    "class Main:\n",
    "    def run(self):\n",
    "        # here's where I do all of my testing/object instances/asking for user input/printing\n",
    "         \n",
    "        # instantiate a pokedex\n",
    "        testDex = Pokedex()\n",
    "        # add the pokemon to the pokedex\n",
    "        testDex.fillDex(['bulbasaur', 'grovyle', 'pikachu', 'raichu', 'moltres', 'zapdos', 'spearow', 'fearow', 'ekans', 'arbok', 'raichu', 'sandshrew', 'sandslash', 'nidoran-f', 'nidorina', 'nidoqueen', 'nidoran-m', 'nidorino', 'nidoking', 'clefairy', 'clefable', 'vulpix', 'ninetales', 'jigglypuff', 'wigglytuff'])\n",
    "        testDex.display()\n",
    "        print('\\n')\n",
    "        while True:\n",
    "            choice = input('What type would you like to search for? (or q to quit) - ').lower()\n",
    "            if choice == 'q':\n",
    "                break\n",
    "            else:\n",
    "                testDex.search(choice)\n",
    "    \n",
    "    \n",
    "    \n",
    "    \n",
    "    \n",
    "    \n",
    "    "
   ]
  },
  {
   "cell_type": "code",
   "execution_count": 53,
   "id": "9d32dce4",
   "metadata": {},
   "outputs": [
    {
     "name": "stdout",
     "output_type": "stream",
     "text": [
      "Unsuccessful\n",
      "Your pokedex currently contains:\n",
      "bulbasaur {'name': 'bulbasaur', 'weight': 69, 'abilities': ['overgrow', 'chlorophyll'], 'types': ['grass', 'poison']}\n",
      "grovyle {'name': 'grovyle', 'weight': 216, 'abilities': ['overgrow', 'unburden'], 'types': ['grass']}\n",
      "pikachu {'name': 'pikachu', 'weight': 60, 'abilities': ['static', 'lightning-rod'], 'types': ['electric']}\n"
     ]
    },
    {
     "ename": "AttributeError",
     "evalue": "'NoneType' object has no attribute 'show'",
     "output_type": "error",
     "traceback": [
      "\u001b[1;31m---------------------------------------------------------------------------\u001b[0m",
      "\u001b[1;31mAttributeError\u001b[0m                            Traceback (most recent call last)",
      "\u001b[1;32m<ipython-input-53-f2062de61062>\u001b[0m in \u001b[0;36m<module>\u001b[1;34m\u001b[0m\n\u001b[0;32m      1\u001b[0m \u001b[0mtesting\u001b[0m \u001b[1;33m=\u001b[0m \u001b[0mMain\u001b[0m\u001b[1;33m(\u001b[0m\u001b[1;33m)\u001b[0m\u001b[1;33m\u001b[0m\u001b[1;33m\u001b[0m\u001b[0m\n\u001b[1;32m----> 2\u001b[1;33m \u001b[0mtesting\u001b[0m\u001b[1;33m.\u001b[0m\u001b[0mrun\u001b[0m\u001b[1;33m(\u001b[0m\u001b[1;33m)\u001b[0m\u001b[1;33m\u001b[0m\u001b[1;33m\u001b[0m\u001b[0m\n\u001b[0m",
      "\u001b[1;32m<ipython-input-52-28a7f67fc941>\u001b[0m in \u001b[0;36mrun\u001b[1;34m(self)\u001b[0m\n\u001b[0;32m     75\u001b[0m         \u001b[1;31m#add the pokemon to the pokedex\u001b[0m\u001b[1;33m\u001b[0m\u001b[1;33m\u001b[0m\u001b[1;33m\u001b[0m\u001b[0m\n\u001b[0;32m     76\u001b[0m         \u001b[0mtestDex\u001b[0m\u001b[1;33m.\u001b[0m\u001b[0mfillDex\u001b[0m\u001b[1;33m(\u001b[0m\u001b[1;33m[\u001b[0m\u001b[1;34m'bulbasaur'\u001b[0m\u001b[1;33m,\u001b[0m \u001b[1;34m'grovyle'\u001b[0m\u001b[1;33m,\u001b[0m \u001b[1;34m'pikachu'\u001b[0m\u001b[1;33m,\u001b[0m \u001b[1;34m'reichu'\u001b[0m\u001b[1;33m,\u001b[0m \u001b[1;34m'moltres'\u001b[0m\u001b[1;33m,\u001b[0m \u001b[1;34m'zapdos'\u001b[0m\u001b[1;33m]\u001b[0m\u001b[1;33m)\u001b[0m\u001b[1;33m\u001b[0m\u001b[1;33m\u001b[0m\u001b[0m\n\u001b[1;32m---> 77\u001b[1;33m         \u001b[0mtestDex\u001b[0m\u001b[1;33m.\u001b[0m\u001b[0mdisplay\u001b[0m\u001b[1;33m(\u001b[0m\u001b[1;33m)\u001b[0m\u001b[1;33m\u001b[0m\u001b[1;33m\u001b[0m\u001b[0m\n\u001b[0m\u001b[0;32m     78\u001b[0m         \u001b[0mprint\u001b[0m\u001b[1;33m(\u001b[0m\u001b[1;34m'\\n'\u001b[0m\u001b[1;33m)\u001b[0m\u001b[1;33m\u001b[0m\u001b[1;33m\u001b[0m\u001b[0m\n\u001b[0;32m     79\u001b[0m         \u001b[1;32mwhile\u001b[0m \u001b[1;32mTrue\u001b[0m\u001b[1;33m:\u001b[0m\u001b[1;33m\u001b[0m\u001b[1;33m\u001b[0m\u001b[0m\n",
      "\u001b[1;32m<ipython-input-52-28a7f67fc941>\u001b[0m in \u001b[0;36mdisplay\u001b[1;34m(self)\u001b[0m\n\u001b[0;32m     59\u001b[0m         \u001b[0mprint\u001b[0m\u001b[1;33m(\u001b[0m\u001b[1;34m'Your pokedex currently contains:'\u001b[0m\u001b[1;33m)\u001b[0m\u001b[1;33m\u001b[0m\u001b[1;33m\u001b[0m\u001b[0m\n\u001b[0;32m     60\u001b[0m         \u001b[1;32mfor\u001b[0m \u001b[0mpokemon\u001b[0m \u001b[1;32min\u001b[0m \u001b[0mself\u001b[0m\u001b[1;33m.\u001b[0m\u001b[0mdex\u001b[0m\u001b[1;33m.\u001b[0m\u001b[0mvalues\u001b[0m\u001b[1;33m(\u001b[0m\u001b[1;33m)\u001b[0m\u001b[1;33m:\u001b[0m\u001b[1;33m\u001b[0m\u001b[1;33m\u001b[0m\u001b[0m\n\u001b[1;32m---> 61\u001b[1;33m             \u001b[0mpokemon\u001b[0m\u001b[1;33m.\u001b[0m\u001b[0mshow\u001b[0m\u001b[1;33m(\u001b[0m\u001b[1;33m)\u001b[0m\u001b[1;33m\u001b[0m\u001b[1;33m\u001b[0m\u001b[0m\n\u001b[0m\u001b[0;32m     62\u001b[0m \u001b[1;33m\u001b[0m\u001b[0m\n\u001b[0;32m     63\u001b[0m     \u001b[1;32mdef\u001b[0m \u001b[0msearch\u001b[0m\u001b[1;33m(\u001b[0m\u001b[0mself\u001b[0m\u001b[1;33m,\u001b[0m \u001b[0mpokeType\u001b[0m\u001b[1;33m)\u001b[0m\u001b[1;33m:\u001b[0m\u001b[1;33m\u001b[0m\u001b[1;33m\u001b[0m\u001b[0m\n",
      "\u001b[1;31mAttributeError\u001b[0m: 'NoneType' object has no attribute 'show'"
     ]
    }
   ],
   "source": [
    "testing = Main()\n",
    "testing.run()"
   ]
  }
 ],
 "metadata": {
  "kernelspec": {
   "display_name": "Python 3",
   "language": "python",
   "name": "python3"
  },
  "language_info": {
   "codemirror_mode": {
    "name": "ipython",
    "version": 3
   },
   "file_extension": ".py",
   "mimetype": "text/x-python",
   "name": "python",
   "nbconvert_exporter": "python",
   "pygments_lexer": "ipython3",
   "version": "3.8.8"
  }
 },
 "nbformat": 4,
 "nbformat_minor": 5
}
