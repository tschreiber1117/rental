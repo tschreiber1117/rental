{
 "cells": [
  {
   "cell_type": "markdown",
   "id": "98120487",
   "metadata": {},
   "source": [
    "# APIs\n",
    "\n",
    "#### What are they and how do we use them\n",
    "\n",
    "<p> API stands for application programming interface - what an API actually does is provide a way for different servers, devices, and applications to send information back and forth in a commonly understood structure. </p>\n",
    "\n",
    "<p> So using an api, we can send data from an application written in one programming language to an application written in another programming language on a different server, and both applications can understand that data. </p>"
   ]
  },
  {
   "cell_type": "markdown",
   "id": "af83c4fc",
   "metadata": {},
   "source": [
    "<p> Its kind of like the kitchen in a restaurant -> they take the unprepared food items, chop them up, cook them, and lay them out nicely presented on a plate for the customers to consume as they please. </p>\n",
    "\n",
    "<p> APIs use data formats that can be understood by multiple programming languages -> the most common one we will use is called JSON data (JavaScript Object Notation) </p>"
   ]
  },
  {
   "cell_type": "code",
   "execution_count": 3,
   "id": "e1c03ba7",
   "metadata": {},
   "outputs": [
    {
     "data": {
      "text/plain": [
       "200"
      ]
     },
     "execution_count": 3,
     "metadata": {},
     "output_type": "execute_result"
    }
   ],
   "source": [
    "import requests as r # often requests is imported under the alias r\n",
    "\n",
    "data = r.get('https://pokeapi.co/api/v2/pokemon/ditto')\n",
    "data.status_code"
   ]
  },
  {
   "cell_type": "code",
   "execution_count": 20,
   "id": "87346346",
   "metadata": {},
   "outputs": [
    {
     "name": "stdout",
     "output_type": "stream",
     "text": [
      "limber\n"
     ]
    }
   ],
   "source": [
    "if data.status_code == 200:\n",
    "    ditto_data = data.json()\n",
    "    print(ditto_data['abilities'][0]['ability']['name'])\n",
    "    \n",
    "else:\n",
    "    print('Sorry, API call unsuccessful.')"
   ]
  },
  {
   "cell_type": "code",
   "execution_count": 27,
   "id": "47d3536e",
   "metadata": {},
   "outputs": [],
   "source": [
    "# In-Class Exercise #1\n",
    "# From this API Endpoint: 'https://pokeapi.co/api/v2/pokemon/entei'\n",
    "# Access the string 'emerald' thats located somewhere within game_indices\n",
    "\n",
    "entei = r.get('https://pokeapi.co/api/v2/pokemon/entei')\n",
    "if data.status_code == 200:\n",
    "    entei = entei.json()"
   ]
  },
  {
   "cell_type": "code",
   "execution_count": 41,
   "id": "a34d01cc",
   "metadata": {},
   "outputs": [
    {
     "name": "stdout",
     "output_type": "stream",
     "text": [
      "LINE 5: emerald\n",
      "\n",
      "\n",
      "LINE 11: gold\n",
      "LINE 11: silver\n",
      "LINE 11: crystal\n",
      "LINE 11: ruby\n",
      "LINE 11: sapphire\n",
      "LINE 11: emerald\n",
      "LINE 11: firered\n",
      "LINE 11: leafgreen\n",
      "LINE 11: diamond\n",
      "LINE 11: pearl\n",
      "LINE 11: platinum\n",
      "LINE 11: heartgold\n",
      "LINE 11: soulsilver\n",
      "LINE 11: black\n",
      "LINE 11: white\n",
      "LINE 11: black-2\n",
      "LINE 11: white-2\n",
      "\n",
      "\n",
      "Entei is in the following games: ['gold', 'silver', 'crystal', 'ruby', 'sapphire', 'emerald', 'firered', 'leafgreen', 'diamond', 'pearl', 'platinum', 'heartgold', 'soulsilver', 'black', 'white', 'black-2', 'white-2']\n"
     ]
    }
   ],
   "source": [
    "# What are the names of all of the Pokemon games that Entei is in?\n",
    "# I want a list of the names of every game Entei is in.\n",
    "\n",
    "# Well, if I can do it for one piece of the data,\n",
    "print(f\"LINE 5: {entei['game_indices'][5]['version']['name']}\")\n",
    "print('\\n')\n",
    "\n",
    "# I can do it for all of the similarly structured data\n",
    "entei_games = []\n",
    "for game in entei['game_indices']:\n",
    "    print(f\"LINE 11: {game['version']['name']}\")\n",
    "    entei_games.append(game['version']['name'])\n",
    "\n",
    "print('\\n')\n",
    "print(f'Entei is in the following games: {entei_games}')"
   ]
  },
  {
   "cell_type": "code",
   "execution_count": 5,
   "id": "7d1f4f19",
   "metadata": {},
   "outputs": [
    {
     "data": {
      "text/plain": [
       "{'fire': [{'name': 'made up name',\n",
       "   'abilities': ['roar', 'tail whip', 'thunderbolt'],\n",
       "   'weight': 45,\n",
       "   'types': 'fire'},\n",
       "  {'name': 'made up name',\n",
       "   'abilities': ['roar', 'tail whip', 'thunderbolt'],\n",
       "   'weight': 45,\n",
       "   'types': 'fire'}],\n",
       " 'water': [],\n",
       " 'psychic': []}"
      ]
     },
     "execution_count": 5,
     "metadata": {},
     "output_type": "execute_result"
    }
   ],
   "source": [
    "# End goal structure for the basic version of the assignment:\n",
    "\n",
    "# Goal is to make 20 pokemon\n",
    "# Each pokemon is a dictionary\n",
    "a_pokemon = {\n",
    "    'name': 'made up name',\n",
    "    'abilities': ['roar', 'tail whip', 'thunderbolt'],\n",
    "    'weight': 45,\n",
    "    'types': 'fire'\n",
    "}\n",
    "\n",
    "# after you make all the individual pokemon\n",
    "# put them in a dictionary of lists based on type\n",
    "my_pokemon = {\n",
    "    'fire': [{\n",
    "    'name': 'made up name',\n",
    "    'abilities': ['roar', 'tail whip', 'thunderbolt'],\n",
    "    'weight': 45,\n",
    "    'types': 'fire'\n",
    "    }, \n",
    "{\n",
    "    'name': 'made up name',\n",
    "    'abilities': ['roar', 'tail whip', 'thunderbolt'],\n",
    "    'weight': 45,\n",
    "    'types': 'fire'\n",
    "}],\n",
    "    'water': [],\n",
    "    'psychic': []\n",
    "}\n",
    "my_pokemon"
   ]
  },
  {
   "cell_type": "code",
   "execution_count": 4,
   "id": "d7d487f3",
   "metadata": {},
   "outputs": [
    {
     "name": "stdout",
     "output_type": "stream",
     "text": [
      "pikachu | 200\n",
      "charizard | 200\n",
      "squirtle | 200\n"
     ]
    }
   ],
   "source": [
    "# remember that string concatenation is a thing and/or that f-strings work here\n",
    "\n",
    "names = ['pikachu', 'charizard', 'squirtle']\n",
    "\n",
    "for name in names:\n",
    "    data = r.get(f'https://pokeapi.co/api/v2/pokemon/{name}')\n",
    "    print(f'{name} | {data.status_code}')"
   ]
  },
  {
   "cell_type": "code",
   "execution_count": null,
   "id": "c6863f9f",
   "metadata": {},
   "outputs": [],
   "source": []
  },
  {
   "cell_type": "code",
   "execution_count": null,
   "id": "2a1613a5",
   "metadata": {},
   "outputs": [],
   "source": []
  },
  {
   "cell_type": "code",
   "execution_count": 10,
   "id": "f28e4470",
   "metadata": {},
   "outputs": [
    {
     "name": "stdout",
     "output_type": "stream",
     "text": [
      "entei\n"
     ]
    }
   ],
   "source": [
    "# I'm working with a single pokemon and I want:\n",
    "entei_data = r.get('https://pokeapi.co/api/v2/pokemon/entei')\n",
    "if data.status_code == 200:\n",
    "    entei_data = entei_data.json()\n",
    "\n",
    "# name\n",
    "name = entei_data['name']\n",
    "print(name)\n",
    "# abilities\n",
    "abilities = 'whatever process you needed to get the abilities'\n",
    "# types\n",
    "\n",
    "# weight"
   ]
  },
  {
   "cell_type": "code",
   "execution_count": 43,
   "id": "1b9b69ae",
   "metadata": {},
   "outputs": [
    {
     "name": "stdout",
     "output_type": "stream",
     "text": [
      "ability variable has value: \n",
      "\t pressure\n",
      "ability variable has value: \n",
      "\t inner-focus\n"
     ]
    },
    {
     "data": {
      "text/plain": [
       "['pressure', 'inner-focus']"
      ]
     },
     "execution_count": 43,
     "metadata": {},
     "output_type": "execute_result"
    }
   ],
   "source": [
    "entei_data = r.get('https://pokeapi.co/api/v2/pokemon/entei')\n",
    "# entei_data['name'] trying to access a key from the response object will give error: 'Response' object is not subscriptable\n",
    "# need to 'jsonify' using .json() first\n",
    "if entei_data.status_code == 200:\n",
    "    entei_data = entei_data.json()\n",
    "\n",
    "# figure out how to get just ability names\n",
    "entei_data['abilities']\n",
    "\n",
    "for ability in entei_data['abilities']:\n",
    "    print(f\"ability variable has value: \\n\\t {ability['ability']['name']}\")\n",
    "    \n",
    "# but I want to get the ability names in a list\n",
    "# wait a second... how do I make a list based on a transformation from another list?\n",
    "# LIST COMPREHENSION ARE AMAZING\n",
    "entei_abilities = [ability['ability']['name'] for ability in entei_data['abilities']]\n",
    "entei_abilities"
   ]
  },
  {
   "cell_type": "code",
   "execution_count": null,
   "id": "3819118b",
   "metadata": {},
   "outputs": [],
   "source": []
  },
  {
   "cell_type": "code",
   "execution_count": null,
   "id": "acb8ad06",
   "metadata": {},
   "outputs": [],
   "source": []
  },
  {
   "cell_type": "code",
   "execution_count": 1,
   "id": "9a29a682",
   "metadata": {},
   "outputs": [],
   "source": [
    "import requests as r\n",
    "# Instead of Making a Pokemon Dictionary, I want to make pokemon objects\n",
    "# I want to store those pokemon objects in a dictionary where the key is the pokemon's name\n",
    "# {\n",
    "# 'grovyle' : <pokemon_object for grovyle @ 0x304180sflk31sj>\n",
    "# }\n",
    "# I want to be able to pass a dictionary made from the API call .json() data into the __init__() of Pokemon class\n",
    "# and have the pokemon's attributes be filled out from there\n",
    "\n",
    "# let me lay out my skeleton code\n",
    "# pokemon object is gonna have the same attributes\n",
    "    # name=str, abilities=[], types=[], weight=int\n",
    "# pokemon object methods\n",
    "    # display that prints our pokemon's info nice and pretty prettily? fancy-lookin.\n",
    "\n",
    "# second class pokedex\n",
    "    # 1 attribute - the dictionary of all the pokemon\n",
    "    \n",
    "    # 3 methods\n",
    "        # 1 create pokemon -> take in a list of pokemon names, and fill up our objects/dictionary\n",
    "        # 2 display function - to show all the pokemon\n",
    "        # 3 searching function to display based on the pokemon type asked for\n",
    "\n",
    "# pokemon objects\n",
    "class Pokemon:\n",
    "    def __init__(self, d):\n",
    "        self.name = d['name']\n",
    "        self.weight = d['weight']\n",
    "        self.abilities = [ability['ability']['name'] for ability in d['abilities']]\n",
    "        self.types = [t['type']['name'] for t in d['types']]\n",
    "        \n",
    "    def show(self):\n",
    "        print(self.name, self.__dict__)\n",
    "\n",
    "# pokedex objects\n",
    "class Pokedex:\n",
    "    def __init__(self):\n",
    "        self.dex = {}\n",
    "    \n",
    "    # accepts a list of pokemon names, fills our entire pokedex with pokemon objects based on the names passed in\n",
    "    def fillDex(self, pokeNames):\n",
    "        for name in pokeNames:\n",
    "            self.dex[name] = self.getMon(name)\n",
    "            \n",
    "    \n",
    "    # runs our Single Pokemon Process (TM)\n",
    "    def getMon(self, name):\n",
    "        data = r.get(f'https://pokeapi.co/api/v2/pokemon/{name}')\n",
    "        # if our api call was successful\n",
    "        if data.status_code == 200:\n",
    "            data = data.json() # this is the dictionary of info about the pokemon\n",
    "            # instantiate an entei with that data\n",
    "            pokemon = Pokemon(data)\n",
    "            return pokemon\n",
    "        else:\n",
    "            print('Unsuccessful')\n",
    "        \n",
    "    def display(self):\n",
    "        print('Your pokedex currently contains:')\n",
    "        for pokemon in self.dex.values():\n",
    "            pokemon.show()\n",
    "    \n",
    "    def search(self, pokeType):\n",
    "        print(f'The pokemon of type: {pokeType}')\n",
    "        for pokemon in self.dex.values():\n",
    "            if pokeType.lower() in pokemon.types:\n",
    "                pokemon.show()\n",
    "    \n",
    "class Main:\n",
    "    def run(self):\n",
    "        # here's where I do all of my testing/object instances/asking for user input/printing\n",
    "         \n",
    "        # instantiate a pokedex\n",
    "        testDex = Pokedex()\n",
    "        # add the pokemon to the pokedex\n",
    "        testDex.fillDex(['bulbasaur', 'grovyle', 'pikachu', 'raichu', 'moltres', 'zapdos', 'spearow', 'fearow', 'ekans', 'arbok pikachu raichu sandshrew sandslash nidoran-f nidorina nidoqueen nidoran-m nidorino nidoking clefairy clefable vulpix ninetales jigglypuff wigglytuff])\n",
    "        testDex.display()\n",
    "        print('\\n')\n",
    "        while True:\n",
    "            choice = input('What type would you like to search for? (or q to quit) - ').lower()\n",
    "            if choice == 'q':\n",
    "                break\n",
    "            else:\n",
    "                testDex.search(choice)\n",
    "                "
   ]
  },
  {
   "cell_type": "code",
   "execution_count": null,
   "id": "5950b858",
   "metadata": {},
   "outputs": [
    {
     "name": "stdout",
     "output_type": "stream",
     "text": [
      "Your pokedex currently contains:\n",
      "bulbasaur {'name': 'bulbasaur', 'weight': 69, 'abilities': ['overgrow', 'chlorophyll'], 'types': ['grass', 'poison']}\n",
      "grovyle {'name': 'grovyle', 'weight': 216, 'abilities': ['overgrow', 'unburden'], 'types': ['grass']}\n",
      "pikachu {'name': 'pikachu', 'weight': 60, 'abilities': ['static', 'lightning-rod'], 'types': ['electric']}\n",
      "raichu {'name': 'raichu', 'weight': 300, 'abilities': ['static', 'lightning-rod'], 'types': ['electric']}\n",
      "moltres {'name': 'moltres', 'weight': 600, 'abilities': ['pressure', 'flame-body'], 'types': ['fire', 'flying']}\n",
      "zapdos {'name': 'zapdos', 'weight': 526, 'abilities': ['pressure', 'static'], 'types': ['electric', 'flying']}\n",
      "\n",
      "\n",
      "What type would you like to search for? (or q to quit) - pikachu\n",
      "The pokemon of type: pikachu\n",
      "What type would you like to search for? (or q to quit) - poison\n",
      "The pokemon of type: poison\n",
      "bulbasaur {'name': 'bulbasaur', 'weight': 69, 'abilities': ['overgrow', 'chlorophyll'], 'types': ['grass', 'poison']}\n",
      "What type would you like to search for? (or q to quit) - flying\n",
      "The pokemon of type: flying\n",
      "moltres {'name': 'moltres', 'weight': 600, 'abilities': ['pressure', 'flame-body'], 'types': ['fire', 'flying']}\n",
      "zapdos {'name': 'zapdos', 'weight': 526, 'abilities': ['pressure', 'static'], 'types': ['electric', 'flying']}\n"
     ]
    }
   ],
   "source": [
    "testing = Main()\n",
    "testing.run()"
   ]
  },
  {
   "cell_type": "code",
   "execution_count": null,
   "id": "115f0039",
   "metadata": {},
   "outputs": [],
   "source": []
  }
 ],
 "metadata": {
  "kernelspec": {
   "display_name": "Python 3",
   "language": "python",
   "name": "python3"
  },
  "language_info": {
   "codemirror_mode": {
    "name": "ipython",
    "version": 3
   },
   "file_extension": ".py",
   "mimetype": "text/x-python",
   "name": "python",
   "nbconvert_exporter": "python",
   "pygments_lexer": "ipython3",
   "version": "3.8.8"
  }
 },
 "nbformat": 4,
 "nbformat_minor": 5
}
